{
 "cells": [
  {
   "cell_type": "code",
   "execution_count": 4,
   "id": "3ddcbad2",
   "metadata": {},
   "outputs": [],
   "source": [
    "import numpy as np\n",
    "import pandas as pd\n",
    "import matplotlib.pyplot as plt\n",
    "import seaborn as sns\n",
    "import datetime as dt\n",
    "import json\n",
    "from sklearn.preprocessing import StandardScaler"
   ]
  },
  {
   "cell_type": "code",
   "execution_count": 2,
   "id": "7b790714",
   "metadata": {},
   "outputs": [],
   "source": [
    "df = pd.read_csv('cleanDF.csv', index_col = 0, parse_dates = ['publish_time'])"
   ]
  },
  {
   "cell_type": "code",
   "execution_count": 3,
   "id": "dd4145a2",
   "metadata": {},
   "outputs": [
    {
     "data": {
      "text/html": [
       "<div>\n",
       "<style scoped>\n",
       "    .dataframe tbody tr th:only-of-type {\n",
       "        vertical-align: middle;\n",
       "    }\n",
       "\n",
       "    .dataframe tbody tr th {\n",
       "        vertical-align: top;\n",
       "    }\n",
       "\n",
       "    .dataframe thead th {\n",
       "        text-align: right;\n",
       "    }\n",
       "</style>\n",
       "<table border=\"1\" class=\"dataframe\">\n",
       "  <thead>\n",
       "    <tr style=\"text-align: right;\">\n",
       "      <th></th>\n",
       "      <th>video_id</th>\n",
       "      <th>trending_date</th>\n",
       "      <th>publish_time</th>\n",
       "      <th>views</th>\n",
       "      <th>likes</th>\n",
       "      <th>dislikes</th>\n",
       "      <th>comment_count</th>\n",
       "      <th>category_id</th>\n",
       "      <th>Category</th>\n",
       "    </tr>\n",
       "  </thead>\n",
       "  <tbody>\n",
       "    <tr>\n",
       "      <th>0</th>\n",
       "      <td>2kyS6SvSYSE</td>\n",
       "      <td>2017-11-14</td>\n",
       "      <td>2017-11-13 17:13:01+00:00</td>\n",
       "      <td>748374</td>\n",
       "      <td>57527</td>\n",
       "      <td>2966</td>\n",
       "      <td>15954</td>\n",
       "      <td>22</td>\n",
       "      <td>People &amp; Blogs</td>\n",
       "    </tr>\n",
       "    <tr>\n",
       "      <th>1</th>\n",
       "      <td>1ZAPwfrtAFY</td>\n",
       "      <td>2017-11-14</td>\n",
       "      <td>2017-11-13 07:30:00+00:00</td>\n",
       "      <td>2418783</td>\n",
       "      <td>97185</td>\n",
       "      <td>6146</td>\n",
       "      <td>12703</td>\n",
       "      <td>24</td>\n",
       "      <td>Entertainment</td>\n",
       "    </tr>\n",
       "    <tr>\n",
       "      <th>2</th>\n",
       "      <td>5qpjK5DgCt4</td>\n",
       "      <td>2017-11-14</td>\n",
       "      <td>2017-11-12 19:05:24+00:00</td>\n",
       "      <td>3191434</td>\n",
       "      <td>146033</td>\n",
       "      <td>5339</td>\n",
       "      <td>8181</td>\n",
       "      <td>23</td>\n",
       "      <td>Comedy</td>\n",
       "    </tr>\n",
       "    <tr>\n",
       "      <th>3</th>\n",
       "      <td>puqaWrEC7tY</td>\n",
       "      <td>2017-11-14</td>\n",
       "      <td>2017-11-13 11:00:04+00:00</td>\n",
       "      <td>343168</td>\n",
       "      <td>10172</td>\n",
       "      <td>666</td>\n",
       "      <td>2146</td>\n",
       "      <td>24</td>\n",
       "      <td>Entertainment</td>\n",
       "    </tr>\n",
       "    <tr>\n",
       "      <th>4</th>\n",
       "      <td>d380meD0W0M</td>\n",
       "      <td>2017-11-14</td>\n",
       "      <td>2017-11-12 18:01:41+00:00</td>\n",
       "      <td>2095731</td>\n",
       "      <td>132235</td>\n",
       "      <td>1989</td>\n",
       "      <td>17518</td>\n",
       "      <td>24</td>\n",
       "      <td>Entertainment</td>\n",
       "    </tr>\n",
       "  </tbody>\n",
       "</table>\n",
       "</div>"
      ],
      "text/plain": [
       "      video_id trending_date              publish_time    views   likes  \\\n",
       "0  2kyS6SvSYSE    2017-11-14 2017-11-13 17:13:01+00:00   748374   57527   \n",
       "1  1ZAPwfrtAFY    2017-11-14 2017-11-13 07:30:00+00:00  2418783   97185   \n",
       "2  5qpjK5DgCt4    2017-11-14 2017-11-12 19:05:24+00:00  3191434  146033   \n",
       "3  puqaWrEC7tY    2017-11-14 2017-11-13 11:00:04+00:00   343168   10172   \n",
       "4  d380meD0W0M    2017-11-14 2017-11-12 18:01:41+00:00  2095731  132235   \n",
       "\n",
       "   dislikes  comment_count  category_id        Category  \n",
       "0      2966          15954           22  People & Blogs  \n",
       "1      6146          12703           24   Entertainment  \n",
       "2      5339           8181           23          Comedy  \n",
       "3       666           2146           24   Entertainment  \n",
       "4      1989          17518           24   Entertainment  "
      ]
     },
     "execution_count": 3,
     "metadata": {},
     "output_type": "execute_result"
    }
   ],
   "source": [
    "df.head()"
   ]
  },
  {
   "cell_type": "code",
   "execution_count": 12,
   "id": "fcf9a1d0",
   "metadata": {},
   "outputs": [],
   "source": [
    "names = ['views', 'likes','dislikes', 'comment_count']"
   ]
  },
  {
   "cell_type": "code",
   "execution_count": 5,
   "id": "5aa19323",
   "metadata": {},
   "outputs": [],
   "source": [
    "df1 = df[['views', 'likes','dislikes', 'comment_count']]"
   ]
  },
  {
   "cell_type": "code",
   "execution_count": 6,
   "id": "3a741be5",
   "metadata": {},
   "outputs": [],
   "source": [
    "scaler = StandardScaler()"
   ]
  },
  {
   "cell_type": "code",
   "execution_count": 7,
   "id": "d0652672",
   "metadata": {},
   "outputs": [],
   "source": [
    "scaled = scaler.fit_transform(df1)"
   ]
  },
  {
   "cell_type": "code",
   "execution_count": 15,
   "id": "5bfc98ed",
   "metadata": {},
   "outputs": [],
   "source": [
    "scaledDf = pd.DataFrame(scaled, columns = names)"
   ]
  },
  {
   "cell_type": "code",
   "execution_count": 16,
   "id": "b8f65cf6",
   "metadata": {},
   "outputs": [
    {
     "data": {
      "text/html": [
       "<div>\n",
       "<style scoped>\n",
       "    .dataframe tbody tr th:only-of-type {\n",
       "        vertical-align: middle;\n",
       "    }\n",
       "\n",
       "    .dataframe tbody tr th {\n",
       "        vertical-align: top;\n",
       "    }\n",
       "\n",
       "    .dataframe thead th {\n",
       "        text-align: right;\n",
       "    }\n",
       "</style>\n",
       "<table border=\"1\" class=\"dataframe\">\n",
       "  <thead>\n",
       "    <tr style=\"text-align: right;\">\n",
       "      <th></th>\n",
       "      <th>views</th>\n",
       "      <th>likes</th>\n",
       "      <th>dislikes</th>\n",
       "      <th>comment_count</th>\n",
       "    </tr>\n",
       "  </thead>\n",
       "  <tbody>\n",
       "    <tr>\n",
       "      <th>0</th>\n",
       "      <td>-0.218069</td>\n",
       "      <td>-0.073137</td>\n",
       "      <td>-0.025677</td>\n",
       "      <td>0.200566</td>\n",
       "    </tr>\n",
       "    <tr>\n",
       "      <th>1</th>\n",
       "      <td>0.007844</td>\n",
       "      <td>0.100131</td>\n",
       "      <td>0.083867</td>\n",
       "      <td>0.113711</td>\n",
       "    </tr>\n",
       "    <tr>\n",
       "      <th>2</th>\n",
       "      <td>0.112341</td>\n",
       "      <td>0.313551</td>\n",
       "      <td>0.056067</td>\n",
       "      <td>-0.007101</td>\n",
       "    </tr>\n",
       "    <tr>\n",
       "      <th>3</th>\n",
       "      <td>-0.272871</td>\n",
       "      <td>-0.280033</td>\n",
       "      <td>-0.104908</td>\n",
       "      <td>-0.168336</td>\n",
       "    </tr>\n",
       "    <tr>\n",
       "      <th>4</th>\n",
       "      <td>-0.035847</td>\n",
       "      <td>0.253267</td>\n",
       "      <td>-0.059333</td>\n",
       "      <td>0.242351</td>\n",
       "    </tr>\n",
       "  </tbody>\n",
       "</table>\n",
       "</div>"
      ],
      "text/plain": [
       "      views     likes  dislikes  comment_count\n",
       "0 -0.218069 -0.073137 -0.025677       0.200566\n",
       "1  0.007844  0.100131  0.083867       0.113711\n",
       "2  0.112341  0.313551  0.056067      -0.007101\n",
       "3 -0.272871 -0.280033 -0.104908      -0.168336\n",
       "4 -0.035847  0.253267 -0.059333       0.242351"
      ]
     },
     "execution_count": 16,
     "metadata": {},
     "output_type": "execute_result"
    }
   ],
   "source": [
    "scaledDf.head()"
   ]
  },
  {
   "cell_type": "code",
   "execution_count": 17,
   "id": "d3da554a",
   "metadata": {},
   "outputs": [],
   "source": [
    "X = scaledDf[['views', 'dislikes', 'comment_count']]"
   ]
  },
  {
   "cell_type": "code",
   "execution_count": 18,
   "id": "a27cd28f",
   "metadata": {},
   "outputs": [],
   "source": [
    "y = scaledDf[['likes']]"
   ]
  },
  {
   "cell_type": "code",
   "execution_count": 19,
   "id": "475feb92",
   "metadata": {},
   "outputs": [],
   "source": [
    "from sklearn.model_selection import train_test_split"
   ]
  },
  {
   "cell_type": "code",
   "execution_count": 20,
   "id": "68f8e01e",
   "metadata": {},
   "outputs": [],
   "source": [
    "X_train, X_test, y_train, y_test = train_test_split(X, y, test_size=0.3, random_state=0)"
   ]
  },
  {
   "cell_type": "code",
   "execution_count": null,
   "id": "48767ff4",
   "metadata": {},
   "outputs": [],
   "source": []
  },
  {
   "cell_type": "code",
   "execution_count": null,
   "id": "bceed72d",
   "metadata": {},
   "outputs": [],
   "source": []
  }
 ],
 "metadata": {
  "kernelspec": {
   "display_name": "Python 3",
   "language": "python",
   "name": "python3"
  },
  "language_info": {
   "codemirror_mode": {
    "name": "ipython",
    "version": 3
   },
   "file_extension": ".py",
   "mimetype": "text/x-python",
   "name": "python",
   "nbconvert_exporter": "python",
   "pygments_lexer": "ipython3",
   "version": "3.8.6"
  }
 },
 "nbformat": 4,
 "nbformat_minor": 5
}
